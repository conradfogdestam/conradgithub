{
 "metadata": {
  "language_info": {
   "codemirror_mode": {
    "name": "ipython",
    "version": 3
   },
   "file_extension": ".py",
   "mimetype": "text/x-python",
   "name": "python",
   "nbconvert_exporter": "python",
   "pygments_lexer": "ipython3",
   "version": "3.8.3-final"
  },
  "orig_nbformat": 2,
  "kernelspec": {
   "name": "Python 3.8.3 64-bit ('conrad.fogdestam': virtualenv)",
   "display_name": "Python 3.8.3 64-bit ('conrad.fogdestam': virtualenv)",
   "metadata": {
    "interpreter": {
     "hash": "b205dec57edecc064f5dd6d3599b901cf3a7c54272e4ce20a29654fcd19aa539"
    }
   }
  }
 },
 "nbformat": 4,
 "nbformat_minor": 2,
 "cells": [
  {
   "cell_type": "code",
   "execution_count": 38,
   "metadata": {},
   "outputs": [
    {
     "output_type": "stream",
     "name": "stdout",
     "text": [
      "1\n3\n5\n7\n9\nSumman av talen multiplicerade med varandra är: 945\n"
     ]
    }
   ],
   "source": [
    "\n",
    "summa = 0\n",
    "for i in range(1,11,2):\n",
    "    print(i)\n",
    "    summa *= i\n",
    "print(\"Summan av talen multiplicerade med varandra är:\",1 * 3 * 5 * 7 * 9)\n",
    "    "
   ]
  },
  {
   "cell_type": "code",
   "execution_count": 44,
   "metadata": {},
   "outputs": [
    {
     "output_type": "stream",
     "name": "stdout",
     "text": [
      "15579.674166007651 kr\n"
     ]
    }
   ],
   "source": [
    "#uppgift m04u02\n",
    "procent = 0.03\n",
    "startkapital = 10000\n",
    "for year in range(1,16):\n",
    "    summa = startkapital * (1 + procent) ** year\n",
    "print(f\"{summa} kr\")"
   ]
  },
  {
   "cell_type": "code",
   "execution_count": 8,
   "metadata": {},
   "outputs": [
    {
     "output_type": "stream",
     "name": "stdout",
     "text": [
      "0 1 2 3 4 5 6 7 8 9 10 11 12 13 14 15 16 17 18 19 20 21 22 23 24 25 26 27 28 29 30 31 32 33 34 35 36 37 38 39 40 41 42 43 44 45 46 47 48 49 50 51 52 53 54 55 56 57 58 59 60 61 62 63 64 65 66 67 68 69 70 71 72 73 74 75 76 77 78 79 80 81 82 83 84 85 86 87 88 89 90 91 92 93 94 95 96 97 98 99 100 "
     ]
    }
   ],
   "source": [
    "#uppgift m04u0\n",
    "for i in range(0,101):\n",
    "    print(i, end=\"\")"
   ]
  },
  {
   "cell_type": "code",
   "execution_count": 52,
   "metadata": {},
   "outputs": [
    {
     "output_type": "stream",
     "name": "stdout",
     "text": [
      "  1  2  3  4  5  6  7  8  9 10 \n  2  4  6  8 10 12 14 16 18 20 \n  3  6  9 12 15 18 21 24 27 30 \n  4  8 12 16 20 24 28 32 36 40 \n  5 10 15 20 25 30 35 40 45 50 \n  6 12 18 24 30 36 42 48 54 60 \n  7 14 21 28 35 42 49 56 63 70 \n  8 16 24 32 40 48 56 64 72 80 \n  9 18 27 36 45 54 63 72 81 90 \n 10 20 30 40 50 60 70 80 90 100 \n"
     ]
    }
   ],
   "source": [
    "for i in range(1, 11):\n",
    "    print(end=\" \")\n",
    "    for j in range(1, 11):\n",
    "        print(\"{:2d}\".format(i * j), end=\" \")\n",
    "    print()"
   ]
  },
  {
   "cell_type": "code",
   "execution_count": null,
   "metadata": {},
   "outputs": [],
   "source": []
  }
 ]
}