{
 "metadata": {
  "language_info": {
   "codemirror_mode": {
    "name": "ipython",
    "version": 3
   },
   "file_extension": ".py",
   "mimetype": "text/x-python",
   "name": "python",
   "nbconvert_exporter": "python",
   "pygments_lexer": "ipython3",
   "version": "3.8.3-final"
  },
  "orig_nbformat": 2,
  "kernelspec": {
   "name": "Python 3.8.3 64-bit ('conrad.fogdestam': virtualenv)",
   "display_name": "Python 3.8.3 64-bit ('conrad.fogdestam': virtualenv)",
   "metadata": {
    "interpreter": {
     "hash": "b205dec57edecc064f5dd6d3599b901cf3a7c54272e4ce20a29654fcd19aa539"
    }
   }
  }
 },
 "nbformat": 4,
 "nbformat_minor": 2,
 "cells": [
  {
   "cell_type": "code",
   "execution_count": 1,
   "metadata": {},
   "outputs": [
    {
     "output_type": "stream",
     "name": "stdout",
     "text": [
      "0\n2\n4\n6\n8\n10\nSumman av talen är: 30\n"
     ]
    }
   ],
   "source": [
    "summa = 0\n",
    "for i in range(0,11,2):\n",
    "    print(i)\n",
    "    summa += i\n",
    "print(f\"Summan av talen är: {summa}\")\n",
    "    "
   ]
  },
  {
   "cell_type": "code",
   "execution_count": 3,
   "metadata": {},
   "outputs": [
    {
     "output_type": "stream",
     "name": "stdout",
     "text": [
      "15579.674166007651\n"
     ]
    }
   ],
   "source": [
    "#uppgift m04u02\n",
    "procent = 0.03\n",
    "startkapital = 10000\n",
    "for year in range(1,16):\n",
    "    summa = startkapital * (1 + procent) ** year\n",
    "print(summa)"
   ]
  },
  {
   "cell_type": "code",
   "execution_count": 2,
   "metadata": {},
   "outputs": [],
   "source": [
    "#uppgift m04u0\n"
   ]
  },
  {
   "cell_type": "code",
   "execution_count": null,
   "metadata": {},
   "outputs": [],
   "source": []
  }
 ]
}