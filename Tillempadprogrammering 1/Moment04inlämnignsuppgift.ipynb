{
 "metadata": {
  "language_info": {
   "codemirror_mode": {
    "name": "ipython",
    "version": 3
   },
   "file_extension": ".py",
   "mimetype": "text/x-python",
   "name": "python",
   "nbconvert_exporter": "python",
   "pygments_lexer": "ipython3",
   "version": "3.8.3-final"
  },
  "orig_nbformat": 2,
  "kernelspec": {
   "name": "python3",
   "display_name": "Python 3"
  }
 },
 "nbformat": 4,
 "nbformat_minor": 2,
 "cells": [
  {
   "cell_type": "code",
   "execution_count": 20,
   "metadata": {},
   "outputs": [
    {
     "output_type": "stream",
     "name": "stdout",
     "text": [
      "Höjd | Volym\n-------------\n1   | 25\n2   | 50\n3   | 75\n4   | 100\n5   | 125\n6   | 150\n7   | 175\n8   | 200\n9   | 225\n10   | 250\n"
     ]
    }
   ],
   "source": [
    "#Uppgift A\n",
    "\n",
    "s1 = 5\n",
    "s2 = 5\n",
    "\n",
    "print(\"Höjd | Volym\")\n",
    "print(\"-------------\")\n",
    "for h in range(1,11):\n",
    "    print(h,\"  |\",s1*s2*h )\n"
   ]
  },
  {
   "cell_type": "code",
   "execution_count": 33,
   "metadata": {},
   "outputs": [
    {
     "output_type": "stream",
     "name": "stdout",
     "text": [
      "Arean på rektangeln med sidorna 7 & 7 är 49\nDet är en kvadrat med sidorna 7 & 7\n \nHöjd | Volym\n-------------\n1   | 49\n2   | 98\n3   | 147\n4   | 196\n5   | 245\n6   | 294\n7   | 343\n8   | 392\n9   | 441\n10   | 490\n"
     ]
    }
   ],
   "source": [
    "#Uppgift B\n",
    "\n",
    "from math import sqrt\n",
    "s1 = int(input(\"ange rektangelns första sida\"))\n",
    "s2 = int(input(\"ange rektangelns andra sida\"))\n",
    "\n",
    "a = s1*s2\n",
    "\n",
    "print(f\"Arean på rektangeln med sidorna {s1} & {s2} är {a}\")\n",
    "if sqrt(a) == s1 and s2:\n",
    "    print(f\"Det är en kvadrat med sidorna {s1} & {s2}\")\n",
    "print(\" \")\n",
    "print(\"Höjd | Volym\")\n",
    "print(\"-------------\")\n",
    "for h in range(1,11):\n",
    "    print(h,\"  |\",s1*s2*h )\n",
    "\n",
    "jn = input(\"vill du göra en beräkning till\")\n",
    "\n"
   ]
  },
  {
   "cell_type": "code",
   "execution_count": null,
   "metadata": {},
   "outputs": [],
   "source": []
  }
 ]
}