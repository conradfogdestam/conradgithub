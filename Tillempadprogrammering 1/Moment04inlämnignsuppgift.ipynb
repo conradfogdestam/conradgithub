{
 "metadata": {
  "language_info": {
   "codemirror_mode": {
    "name": "ipython",
    "version": 3
   },
   "file_extension": ".py",
   "mimetype": "text/x-python",
   "name": "python",
   "nbconvert_exporter": "python",
   "pygments_lexer": "ipython3",
   "version": "3.8.3-final"
  },
  "orig_nbformat": 2,
  "kernelspec": {
   "name": "python3",
   "display_name": "Python 3"
  }
 },
 "nbformat": 4,
 "nbformat_minor": 2,
 "cells": [
  {
   "cell_type": "code",
   "execution_count": null,
   "metadata": {},
   "outputs": [],
   "source": [
    "#Uppgift A\n",
    "\n",
    "s1 = int(input(\"ange rektangelns första sida\"))\n",
    "s2 = int(input(\"ange rektangelns andra sida\"))\n",
    "\n",
    "\n",
    "print(\"Höjd | Volym\")\n",
    "print(\"-------------\")\n",
    "for h in range(1,11):\n",
    "    print(h,\" |\",s1*s2*h )\n"
   ]
  },
  {
   "cell_type": "code",
   "execution_count": 36,
   "metadata": {},
   "outputs": [
    {
     "output_type": "stream",
     "name": "stdout",
     "text": [
      "Arean på rektangeln med sidorna 4 & 6 är 24\n",
      "Höjd | Volym\n",
      "-------------\n",
      "1   | 24\n",
      "2   | 48\n",
      "3   | 72\n",
      "4   | 96\n",
      "5   | 120\n",
      "6   | 144\n",
      "7   | 168\n",
      "8   | 192\n",
      "9   | 216\n",
      "10   | 240\n",
      "Arean på rektangeln med sidorna 5 & 5 är 25\n",
      "Det är en kvadrat med sidorna 5 & 5\n",
      " \n",
      "Höjd | Volym\n",
      "-------------\n",
      "1   | 25\n",
      "2   | 50\n",
      "3   | 75\n",
      "4   | 100\n",
      "5   | 125\n",
      "6   | 150\n",
      "7   | 175\n",
      "8   | 200\n",
      "9   | 225\n",
      "10   | 250\n",
      "Arean på rektangeln med sidorna 6 & 7 är 42\n",
      "Höjd | Volym\n",
      "-------------\n",
      "1   | 42\n",
      "2   | 84\n",
      "3   | 126\n",
      "4   | 168\n",
      "5   | 210\n",
      "6   | 252\n",
      "7   | 294\n",
      "8   | 336\n",
      "9   | 378\n",
      "10   | 420\n",
      "Arean på rektangeln med sidorna 6 & 6 är 36\n",
      "Det är en kvadrat med sidorna 6 & 6\n",
      " \n",
      "Höjd | Volym\n",
      "-------------\n",
      "1   | 36\n",
      "2   | 72\n",
      "3   | 108\n",
      "4   | 144\n",
      "5   | 180\n",
      "6   | 216\n",
      "7   | 252\n",
      "8   | 288\n",
      "9   | 324\n",
      "10   | 360\n"
     ]
    },
    {
     "output_type": "error",
     "ename": "ValueError",
     "evalue": "invalid literal for int() with base 10: ''",
     "traceback": [
      "\u001b[1;31m---------------------------------------------------------------------------\u001b[0m",
      "\u001b[1;31mValueError\u001b[0m                                Traceback (most recent call last)",
      "\u001b[1;32m<ipython-input-36-1b80c2c94267>\u001b[0m in \u001b[0;36m<module>\u001b[1;34m\u001b[0m\n\u001b[0;32m     23\u001b[0m     \u001b[0muser_input\u001b[0m \u001b[1;33m=\u001b[0m \u001b[0mstr\u001b[0m\u001b[1;33m(\u001b[0m\u001b[0minput\u001b[0m\u001b[1;33m(\u001b[0m\u001b[1;34m\"Vill du göra en till beräkning Y/N\"\u001b[0m\u001b[1;33m)\u001b[0m\u001b[1;33m)\u001b[0m\u001b[1;33m\u001b[0m\u001b[1;33m\u001b[0m\u001b[0m\n\u001b[0;32m     24\u001b[0m     \u001b[1;32mif\u001b[0m \u001b[0muser_input\u001b[0m \u001b[1;33m==\u001b[0m \u001b[1;34m\"Y\"\u001b[0m \u001b[1;32mor\u001b[0m \u001b[1;34m\"y\"\u001b[0m\u001b[1;33m:\u001b[0m\u001b[1;33m\u001b[0m\u001b[1;33m\u001b[0m\u001b[0m\n\u001b[1;32m---> 25\u001b[1;33m         \u001b[0mberakning\u001b[0m\u001b[1;33m(\u001b[0m\u001b[1;33m)\u001b[0m\u001b[1;33m\u001b[0m\u001b[1;33m\u001b[0m\u001b[0m\n\u001b[0m\u001b[0;32m     26\u001b[0m     \u001b[1;32melif\u001b[0m \u001b[0muser_input\u001b[0m \u001b[1;33m==\u001b[0m \u001b[1;34m\"N\"\u001b[0m \u001b[1;32mor\u001b[0m \u001b[1;34m\"n\"\u001b[0m\u001b[1;33m:\u001b[0m\u001b[1;33m\u001b[0m\u001b[1;33m\u001b[0m\u001b[0m\n\u001b[0;32m     27\u001b[0m         \u001b[1;32mbreak\u001b[0m\u001b[1;33m\u001b[0m\u001b[1;33m\u001b[0m\u001b[0m\n",
      "\u001b[1;32m<ipython-input-36-1b80c2c94267>\u001b[0m in \u001b[0;36mberakning\u001b[1;34m()\u001b[0m\n\u001b[0;32m      5\u001b[0m \u001b[1;33m\u001b[0m\u001b[0m\n\u001b[0;32m      6\u001b[0m \u001b[1;32mdef\u001b[0m \u001b[0mberakning\u001b[0m\u001b[1;33m(\u001b[0m\u001b[1;33m)\u001b[0m\u001b[1;33m:\u001b[0m\u001b[1;33m\u001b[0m\u001b[1;33m\u001b[0m\u001b[0m\n\u001b[1;32m----> 7\u001b[1;33m     \u001b[0ms1\u001b[0m \u001b[1;33m=\u001b[0m \u001b[0mint\u001b[0m\u001b[1;33m(\u001b[0m\u001b[0minput\u001b[0m\u001b[1;33m(\u001b[0m\u001b[1;34m\"ange rektangelns första sida\"\u001b[0m\u001b[1;33m)\u001b[0m\u001b[1;33m)\u001b[0m\u001b[1;33m\u001b[0m\u001b[1;33m\u001b[0m\u001b[0m\n\u001b[0m\u001b[0;32m      8\u001b[0m     \u001b[0ms2\u001b[0m \u001b[1;33m=\u001b[0m \u001b[0mint\u001b[0m\u001b[1;33m(\u001b[0m\u001b[0minput\u001b[0m\u001b[1;33m(\u001b[0m\u001b[1;34m\"ange rektangelns andra sida\"\u001b[0m\u001b[1;33m)\u001b[0m\u001b[1;33m)\u001b[0m\u001b[1;33m\u001b[0m\u001b[1;33m\u001b[0m\u001b[0m\n\u001b[0;32m      9\u001b[0m \u001b[1;33m\u001b[0m\u001b[0m\n",
      "\u001b[1;31mValueError\u001b[0m: invalid literal for int() with base 10: ''"
     ]
    }
   ],
   "source": [
    "#Uppgift B\n",
    "\n",
    "#funktion\n",
    "from math import sqrt\n",
    "\n",
    "def berakning():\n",
    "    s1 = int(input(\"ange rektangelns första sida\"))\n",
    "    s2 = int(input(\"ange rektangelns andra sida\"))\n",
    "\n",
    "    a = s1*s2\n",
    "\n",
    "    print(f\"Arean på rektangeln med sidorna {s1} & {s2} är {a}\")\n",
    "    if sqrt(a) == s1 and s2:\n",
    "        print(f\"Det är en kvadrat med sidorna {s1} & {s2}\")\n",
    "        print(\" \")\n",
    "    print(\"Höjd | Volym\")\n",
    "    print(\"-------------\")\n",
    "    for h in range(1,11):\n",
    "        print(h,\"  |\",s1*s2*h )\n",
    "\n",
    "    \n",
    "while True:\n",
    "    user_input = str(input(\"Vill du göra en till beräkning Y/N\"))\n",
    "    if user_input == \"Y\" or \"y\":\n",
    "        berakning()\n",
    "    elif user_input == \"N\" or \"n\":\n",
    "        exit()\n",
    "        \n",
    "\n",
    "    \n"
   ]
  },
  {
   "cell_type": "code",
   "execution_count": null,
   "metadata": {},
   "outputs": [],
   "source": []
  }
 ]
}