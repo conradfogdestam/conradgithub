{
 "metadata": {
  "language_info": {
   "codemirror_mode": {
    "name": "ipython",
    "version": 3
   },
   "file_extension": ".py",
   "mimetype": "text/x-python",
   "name": "python",
   "nbconvert_exporter": "python",
   "pygments_lexer": "ipython3",
   "version": "3.8.3-final"
  },
  "orig_nbformat": 2,
  "kernelspec": {
   "name": "Python 3.8.3 64-bit ('base': conda)",
   "display_name": "Python 3.8.3 64-bit ('base': conda)",
   "metadata": {
    "interpreter": {
     "hash": "b205dec57edecc064f5dd6d3599b901cf3a7c54272e4ce20a29654fcd19aa539"
    }
   }
  }
 },
 "nbformat": 4,
 "nbformat_minor": 2,
 "cells": [
  {
   "cell_type": "code",
   "execution_count": null,
   "metadata": {
    "tags": []
   },
   "outputs": [],
   "source": [
    "#uppgift 1\n",
    "s = 0\n",
    "\n",
    "while s < 101:\n",
    "    print(s, end=\" \")\n",
    "    s += 1\n",
    " "
   ]
  },
  {
   "cell_type": "code",
   "execution_count": null,
   "metadata": {
    "tags": []
   },
   "outputs": [],
   "source": [
    "#uppgift 2\n",
    "s = 1 \n",
    "\n",
    "while s < 100:\n",
    "    print(s, end=\" \")\n",
    "    s += 2"
   ]
  },
  {
   "cell_type": "code",
   "execution_count": 71,
   "metadata": {
    "tags": []
   },
   "outputs": [
    {
     "output_type": "stream",
     "name": "stdout",
     "text": "0.5\n0.25\n0.16666666666666666\n0.125\n0.1\n0.08333333333333333\n0.07142857142857142\n0.0625\n0.05555555555555555\n0.05\nsumman av talen = -8.535515873015873\n"
    }
   ],
   "source": [
    "#uppgift 3\n",
    "n = 2\n",
    "s = 0\n",
    "\n",
    "while n <= 20:\n",
    "    num = 1 / n\n",
    "    print(num)\n",
    "    s += num\n",
    "    n += 2\n",
    "print(f\"summan av talen = {s}\")\n",
    "    "
   ]
  },
  {
   "cell_type": "code",
   "execution_count": null,
   "metadata": {
    "tags": []
   },
   "outputs": [],
   "source": [
    "#uppgift 5\n",
    "\n",
    "import random\n",
    "\n",
    "svar = random.randint(1,100)\n",
    "\n",
    "while tal != svar:\n",
    "    tal = float(input(\"Ange heltal mellan 1 - 100\"))\n",
    "    if tal == svar:\n",
    "        print(f\"Du hade rätt talet var {tal}!\")\n",
    "    elif tal < svar:\n",
    "        print(f\"Fel, Ange ett större tal än {tal}\")\n",
    "    elif tal > svar:\n",
    "        print(f\"Fel, Ange ett lägre tal än {tal}\")\n",
    "\n"
   ]
  },
  {
   "cell_type": "code",
   "execution_count": null,
   "metadata": {},
   "outputs": [],
   "source": []
  }
 ]
}