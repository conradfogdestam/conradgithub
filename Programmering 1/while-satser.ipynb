{
 "metadata": {
  "language_info": {
   "codemirror_mode": {
    "name": "ipython",
    "version": 3
   },
   "file_extension": ".py",
   "mimetype": "text/x-python",
   "name": "python",
   "nbconvert_exporter": "python",
   "pygments_lexer": "ipython3",
   "version": "3.8.3-final"
  },
  "orig_nbformat": 2,
  "kernelspec": {
   "name": "Python 3.8.3 64-bit ('base': conda)",
   "display_name": "Python 3.8.3 64-bit ('base': conda)",
   "metadata": {
    "interpreter": {
     "hash": "b205dec57edecc064f5dd6d3599b901cf3a7c54272e4ce20a29654fcd19aa539"
    }
   }
  }
 },
 "nbformat": 4,
 "nbformat_minor": 2,
 "cells": [
  {
   "cell_type": "code",
   "execution_count": null,
   "metadata": {
    "tags": []
   },
   "outputs": [],
   "source": [
    "#uppgift 1\n",
    "s = 0\n",
    "\n",
    "while s < 101:\n",
    "    print(s, end=\" \")\n",
    "    s += 1\n",
    " "
   ]
  },
  {
   "cell_type": "code",
   "execution_count": null,
   "metadata": {
    "tags": []
   },
   "outputs": [],
   "source": [
    "#uppgift 2\n",
    "s = 1 \n",
    "\n",
    "while s < 100:\n",
    "    print(s, end=\" \")\n",
    "    s += 2"
   ]
  },
  {
   "cell_type": "code",
   "execution_count": null,
   "metadata": {
    "tags": []
   },
   "outputs": [],
   "source": [
    "#uppgift 3\n",
    "s = 1\n",
    "n = s/2\n",
    "\n",
    "while s < 100:\n",
    "    print(s, end=\" \")\n",
    "    s += n"
   ]
  },
  {
   "cell_type": "code",
   "execution_count": null,
   "metadata": {
    "tags": []
   },
   "outputs": [],
   "source": [
    "#uppgift 5\n",
    "\n",
    "import random\n",
    "\n",
    "svar = random.randint(1,100)\n",
    "\n",
    "while tal != svar:\n",
    "    tal = float(input(\"Ange heltal mellan 1 - 100\"))\n",
    "    if tal == svar:\n",
    "        print(f\"Du hade rätt talet var {tal}!\")\n",
    "    elif tal < svar:\n",
    "        print(f\"Fel, Ange ett större tal än {tal}\")\n",
    "    elif tal > svar:\n",
    "        print(f\"Fel, Ange ett lägre tal än {tal}\")\n",
    "\n"
   ]
  },
  {
   "cell_type": "code",
   "execution_count": null,
   "metadata": {},
   "outputs": [],
   "source": []
  }
 ]
}