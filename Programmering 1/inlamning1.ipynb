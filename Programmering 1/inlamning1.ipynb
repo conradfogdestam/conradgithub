{
 "metadata": {
  "language_info": {
   "codemirror_mode": {
    "name": "ipython",
    "version": 3
   },
   "file_extension": ".py",
   "mimetype": "text/x-python",
   "name": "python",
   "nbconvert_exporter": "python",
   "pygments_lexer": "ipython3",
   "version": "3.8.3-final"
  },
  "orig_nbformat": 2,
  "kernelspec": {
   "name": "python_defaultSpec_1599465350933",
   "display_name": "Python 3.8.3 64-bit ('conrad.fogdestam': virtualenv)"
  }
 },
 "nbformat": 4,
 "nbformat_minor": 2,
 "cells": [
  {
   "cell_type": "code",
   "execution_count": 9,
   "metadata": {
    "tags": []
   },
   "outputs": [
    {
     "output_type": "stream",
     "name": "stdout",
     "text": "Din tyngdkraft är 785.6 N\nDin tyngdkraft är 785.6 N\n"
    }
   ],
   "source": [
    "g = 9.82\n",
    "m = float(input(\"ange din vikt i kg:\"))\n",
    "\n",
    "F = m*g\n",
    "\n",
    "print(f\"Din tyngdkraft är {F} N\")\n",
    "print(\"Din tyngdkraft är\",F,\"N\")"
   ]
  },
  {
   "cell_type": "code",
   "execution_count": 11,
   "metadata": {
    "tags": []
   },
   "outputs": [
    {
     "output_type": "stream",
     "name": "stdout",
     "text": "0.23 = 23.0%\n"
    }
   ],
   "source": [
    "tal = float(input(\"ange ett decimaltal: \"))\n",
    "procent = tal*100\n",
    "\n",
    "print(f\"{tal} = {procent}%\")"
   ]
  },
  {
   "cell_type": "code",
   "execution_count": 21,
   "metadata": {
    "tags": []
   },
   "outputs": [
    {
     "output_type": "stream",
     "name": "stdout",
     "text": "0.0°C = 273.15K\n"
    }
   ],
   "source": [
    "C = float(input(\"Ange temperatur i °C: \"))\n",
    "K = C+273.15\n",
    "print(f\"{C}°C = {K}K\")"
   ]
  },
  {
   "cell_type": "code",
   "execution_count": 23,
   "metadata": {
    "tags": []
   },
   "outputs": [
    {
     "output_type": "stream",
     "name": "stdout",
     "text": "273.15K = 0.0°C\n"
    }
   ],
   "source": [
    "F = float(input(\"Ange temperatur i Kelvin: \"))\n",
    "C = K-273.15\n",
    "print(f\"{K}K = {C}°C\")"
   ]
  },
  {
   "cell_type": "code",
   "execution_count": null,
   "metadata": {},
   "outputs": [],
   "source": []
  }
 ]
}