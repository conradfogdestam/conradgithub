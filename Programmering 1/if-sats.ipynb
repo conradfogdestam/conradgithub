{
 "metadata": {
  "language_info": {
   "codemirror_mode": {
    "name": "ipython",
    "version": 3
   },
   "file_extension": ".py",
   "mimetype": "text/x-python",
   "name": "python",
   "nbconvert_exporter": "python",
   "pygments_lexer": "ipython3",
   "version": "3.8.3-final"
  },
  "orig_nbformat": 2,
  "kernelspec": {
   "name": "python_defaultSpec_1600248311607",
   "display_name": "Python 3.8.3 64-bit ('base': conda)"
  }
 },
 "nbformat": 4,
 "nbformat_minor": 2,
 "cells": [
  {
   "cell_type": "code",
   "execution_count": 14,
   "metadata": {
    "tags": []
   },
   "outputs": [
    {
     "output_type": "stream",
     "name": "stdout",
     "text": "talet är negativt\n"
    }
   ],
   "source": [
    "tal = float(input(\"ange ett tal\"))\n",
    "\n",
    "if tal==0:\n",
    "    print(\"talet är 0\")\n",
    "elif tal > 0:\n",
    "    print(\"talet är positivt\") \n",
    "else tal < 0:\n",
    "    print(\"talet är negativt\")   \n"
   ]
  },
  {
   "cell_type": "code",
   "execution_count": 36,
   "metadata": {
    "tags": []
   },
   "outputs": [
    {
     "output_type": "stream",
     "name": "stdout",
     "text": "talet är udda\ntalet är delbart med 5\n"
    }
   ],
   "source": [
    "tal = int(input(\"ange ett tal\"))\n",
    "\n",
    "if tal % 2 == 0:\n",
    "    print(\"talet är jämnt\")\n",
    "elif tal %2 != 0:\n",
    "    print(\"talet är udda\")\n",
    "\n",
    "if tal %5 == 0:\n",
    "    print(\"talet är delbart med 5\")"
   ]
  },
  {
   "cell_type": "code",
   "execution_count": 38,
   "metadata": {
    "tags": []
   },
   "outputs": [
    {
     "output_type": "stream",
     "name": "stdout",
     "text": "[3, 4, 5, 9]\nDet största talet är 9\n"
    }
   ],
   "source": [
    "tallista = []\n",
    "\n",
    "tal1 = int(input(\"ange ett heltal\"))\n",
    "tal2 = int(input(\"ange ett heltal\"))\n",
    "tal3 = int(input(\"ange ett heltal\"))\n",
    "tal4 = int(input(\"ange ett heltal\"))\n",
    "\n",
    "tallista.append(tal1)\n",
    "tallista.append(tal2)\n",
    "tallista.append(tal3)\n",
    "tallista.append(tal4)\n",
    "\n",
    "tallista.sort()\n",
    "\n",
    "print(tallista)\n",
    "print(\"Det största heltalet är\", tallista[-1])"
   ]
  },
  {
   "cell_type": "code",
   "execution_count": 48,
   "metadata": {
    "tags": []
   },
   "outputs": [
    {
     "output_type": "stream",
     "name": "stdout",
     "text": "retard\n"
    }
   ],
   "source": [
    "vinkel = float(input(\"ange vinkelns grad: \"))\n",
    "\n",
    "if vinkel < 90 and vinkel > 0:\n",
    "    print(\"det är en spetsig vinkel\")\n",
    "elif vinkel == 90:\n",
    "    print(\"det är en rätvinkel\")\n",
    "elif vinkel > 90 and vinkel < 180:\n",
    "    print(\"det är en trubbig vinkel\")\n",
    "elif vinkel == 180:\n",
    "    print(\"det är rak vinkel\")\n",
    "elif vinkel > 180 and vinkel < 360:\n",
    "    print(\"det är en konvex vinkel\")\n",
    "elif vinkel == 360:\n",
    "    print(\"det är en hel vinkel\")\n",
    "\n",
    "else:\n",
    "    print(\"retard\")"
   ]
  },
  {
   "cell_type": "code",
   "execution_count": 56,
   "metadata": {
    "tags": []
   },
   "outputs": [
    {
     "output_type": "stream",
     "name": "stdout",
     "text": "det kan inte vara ett negativt tal\nOmkretsen är -18.84 och arean 28.259999999999998\n"
    }
   ],
   "source": [
    "r = float(input(\"ange radien på cirkeln: \"))\n",
    "pi = 3.14\n",
    "O = 2*pi*r\n",
    "A = pi*r*r\n",
    "\n",
    "if r < 0:\n",
    "    print(\"det kan inte vara ett negativt tal\")\n",
    "\n",
    "print(f\"Omkretsen är {O} och arean {A}\")"
   ]
  },
  {
   "cell_type": "code",
   "execution_count": 27,
   "metadata": {
    "tags": []
   },
   "outputs": [
    {
     "output_type": "stream",
     "name": "stdout",
     "text": "Du har angett vinklarna 90, 90, 90\nVinklarnas totala summa behöver vara 180 grader\nDet är en rätvinklig triangel\n"
    }
   ],
   "source": [
    "vinkel1 = int(input(\"ange en av triangelns vinklar\"))\n",
    "vinkel2 = int(input(\"ange en annan vinkel på triangeln\"))\n",
    "vinkel3 = int(input(\"ange en annan vinkel på triangeln\"))\n",
    "\n",
    "tot = vinkel1 + vinkel2 + vinkel3\n",
    "\n",
    "print(f\"Du har angett vinklarna {vinkel1}, {vinkel2}, {vinkel3}\")\n",
    "\n",
    "if tot != 180:\n",
    "    print(\"Vinklarnas totala summa behöver vara 180 grader\")\n",
    "elif tot == 180:\n",
    "    print(\"det är en triangel\")\n",
    "\n",
    "if tot == 180 and vinkel1 == 90 or vinkel2 == 90 or vinkel3 == 90:\n",
    "    print(\"Det är en rätvinklig triangel\")\n",
    "else:\n",
    "    print(\"Det är inte en rätvinklig triangel\")\n"
   ]
  },
  {
   "cell_type": "code",
   "execution_count": 29,
   "metadata": {
    "tags": []
   },
   "outputs": [
    {
     "output_type": "stream",
     "name": "stdout",
     "text": "Koordinaten ligger origo\n"
    }
   ],
   "source": [
    "x = int(input(\"ange X koordinaten: \"))\n",
    "\n",
    "y = int(input(\"ange Y koordinaten: \"))\n",
    "\n",
    "\n",
    "if x > 0 and y > 0:\n",
    "    print(\"Koordinaten ligger i Kvadrant 1\")\n",
    "elif x < 0 and y > 0:\n",
    "    print(\"Koordinaten ligger i Kvadrant 2\")\n",
    "elif x < 0 and y < 0:\n",
    "    print(\"Koordinaten ligger i Kvadrant 3\")\n",
    "elif x > 0 and y < 0:\n",
    "    print(\"Koordinaten ligger i Kvadrant 4\")\n",
    "elif x == 0 and y == 0:\n",
    "    print(\"Koordinaten ligger origo\")\n",
    "\n"
   ]
  },
  {
   "cell_type": "code",
   "execution_count": 34,
   "metadata": {
    "tags": []
   },
   "outputs": [
    {
     "output_type": "stream",
     "name": "stdout",
     "text": "din väska är inte godkänd\ndin väska väger 6kg och har dimentionen 6cm x 6cm x 6cm\n"
    }
   ],
   "source": [
    "vikt = int(input(\"Ange vikten på din väskan: \"))\n",
    "bredd = int(input(\"Ange bredd på din väskan: \"))\n",
    "längd = int(input(\"Ange längd på din väskan: \"))\n",
    "höjd = int(input(\"Ange höjd på din väskan: \"))\n",
    "\n",
    "if vikt > 8 and bredd  > 55 and längd > 40 and höjd > 23:\n",
    "    print(\"väskan är inte godkänd\")\n",
    "else:\n",
    "    print(\"din väska är inte godkänd\")\n",
    "print(f\"din väska väger {vikt}kg och har dimentionen {bredd}cm x {längd}cm x {höjd}cm\")\n"
   ]
  },
  {
   "cell_type": "code",
   "execution_count": null,
   "metadata": {},
   "outputs": [],
   "source": []
  }
 ]
}