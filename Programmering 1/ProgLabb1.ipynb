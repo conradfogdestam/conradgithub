{
 "metadata": {
  "language_info": {
   "codemirror_mode": {
    "name": "ipython",
    "version": 3
   },
   "file_extension": ".py",
   "mimetype": "text/x-python",
   "name": "python",
   "nbconvert_exporter": "python",
   "pygments_lexer": "ipython3",
   "version": "3.8.3-final"
  },
  "orig_nbformat": 2,
  "kernelspec": {
   "name": "Python 3.8.3 64-bit ('conrad.fogdestam': virtualenv)",
   "display_name": "Python 3.8.3 64-bit ('conrad.fogdestam': virtualenv)",
   "metadata": {
    "interpreter": {
     "hash": "b205dec57edecc064f5dd6d3599b901cf3a7c54272e4ce20a29654fcd19aa539"
    }
   }
  }
 },
 "nbformat": 4,
 "nbformat_minor": 2,
 "cells": [
  {
   "cell_type": "code",
   "execution_count": null,
   "metadata": {},
   "outputs": [],
   "source": [
    "#UPPGIFT 1c\n",
    "from math import sqrt\n",
    "\n",
    "a = 0.5\n",
    "b = 0.5\n",
    "\n",
    "c = sqrt(a**2 + b**2)\n",
    "print(f\"längden till origo är {c} \")\n"
   ]
  },
  {
   "cell_type": "code",
   "execution_count": null,
   "metadata": {},
   "outputs": [],
   "source": [
    "#UPPGIFT 1b\n",
    "from math import sqrt\n",
    "\n",
    "a = 1\n",
    "b = 1\n",
    "\n",
    "c = sqrt(a**2 + b**2)\n",
    "print(f\"längden till origo är {c} \")\n"
   ]
  },
  {
   "cell_type": "code",
   "execution_count": null,
   "metadata": {},
   "outputs": [],
   "source": [
    "#UPPGIFT 1c\n",
    "from math import sqrt\n",
    "\n",
    "a = 0.5\n",
    "b = -0.5\n",
    "\n",
    "c = sqrt(a**2 + b**2)\n",
    "print(f\"längden till origo är {c} \")"
   ]
  },
  {
   "cell_type": "code",
   "execution_count": null,
   "metadata": {},
   "outputs": [],
   "source": [
    "#UPPGIFT 1d\n",
    "\n",
    "import random\n",
    "\n",
    "\n",
    "for i in range(10):\n",
    "    x = random.uniform(-1,1)\n",
    "    y = random.uniform(-1,1)\n",
    "    print(f\"{x,y}\")\n"
   ]
  },
  {
   "cell_type": "code",
   "execution_count": null,
   "metadata": {},
   "outputs": [],
   "source": [
    "#UPPGIFT 1e\n",
    "ca = 1**2*3.14/4\n",
    "print(f\"{ca}\")\n",
    "\n",
    "import random\n",
    "\n",
    "\n",
    "for i in range(10):\n",
    "    x = random.uniform(-1,1)\n",
    "    print(f\"x = {x}\")\n",
    "\n",
    "for i in range(10):\n",
    "    y = random.uniform(-1,1)\n",
    "    print(f\"y = {y}\")\n",
    "\n"
   ]
  },
  {
   "cell_type": "code",
   "execution_count": null,
   "metadata": {},
   "outputs": [],
   "source": []
  },
  {
   "cell_type": "code",
   "execution_count": null,
   "metadata": {},
   "outputs": [],
   "source": [
    "#UPPGIFT2a\n",
    "i = 0\n",
    "for i in range(0,100):\n",
    "    print(f\"{i+1}\")"
   ]
  },
  {
   "cell_type": "code",
   "execution_count": null,
   "metadata": {},
   "outputs": [],
   "source": [
    "#UPPGIFT2b\n",
    "i = 0\n",
    "for i in range(1,101):\n",
    "    if i%5==0:\n",
    "        print(\"burr\")\n",
    "    else:\n",
    "        print(i)"
   ]
  },
  {
   "cell_type": "code",
   "execution_count": null,
   "metadata": {},
   "outputs": [],
   "source": [
    "#UPPGIFT2c\n",
    "tal = int(input(\"Ange ditt burr nummer\"))# input för burr \n",
    "\n",
    "i = 0\n",
    "for i in range(1,101):\n",
    "    if i%tal==0:#gör så den angivna \"BUrr\" ändras från nummer till burr\n",
    "        print(\"burr\")\n",
    "    else:\n",
    "        print(i)"
   ]
  },
  {
   "cell_type": "code",
   "execution_count": null,
   "metadata": {},
   "outputs": [],
   "source": [
    "#UPPGIFT2d\n",
    "tal = int(input(\"Ange ditt burr nummer\"))#inputsen för burr och birr\n",
    "ta = int(input(\"Ange ditt birr nummer\"))\n",
    "\n",
    "for i in range(1, 101):#for loopen med start och slut variablerna\n",
    "    if i%ta==0 and i%tal==0:\n",
    "        print(\"BurrBirr\")#om det blir en multipel av både burr och birr så blir det burr birr istället\n",
    "\n",
    "    elif i%tal==0:#gör så den angivna \"BUrr\" ändras från nummer till burr\n",
    "        print(\"Burr\")\n",
    "\n",
    "    elif i%ta==0:#gör så den angivna \"BUrr\" ändras från nummer till birr\n",
    "        print(\"Birr\")\n",
    "\n",
    "    else:#fortsätter koden om 'if' och 'elif' inte \n",
    "        print(i) \n"
   ]
  },
  {
   "cell_type": "code",
   "execution_count": null,
   "metadata": {},
   "outputs": [],
   "source": [
    "#UPPGIFT2e\n",
    "\n",
    "#Alla inputs, start och slut på tallinjen samt birr och burr\n",
    "start = int(input(\"Ange start nummer\")) \n",
    "slut = int(input(\"Ange slut nummer\"))\n",
    "tal = int(input(\"Ange ditt Burr nummer\"))\n",
    "ta = int(input(\"Ange ditt birr nummer\"))\n",
    "\n",
    "burr = 0\n",
    "birr = 0\n",
    "burrbirr = 0\n",
    "i = 0\n",
    "for i in range(start, slut):#for loopen med start och slut variablerna\n",
    "    if i%ta==0 and i%tal==0:\n",
    "        print(\"BurrBirr\")#burrbirrprint ifall burr och birr är på samma\n",
    "        burrbirr += 1#räknar antal burrbirr\n",
    "    elif i%tal==0:#gör så den angivna \"BUrr\" ändras från nummer till burr\n",
    "        print(\"Burr\")\n",
    "        burr += 1\n",
    "    elif i%ta==0:#gör så den angivna \"BUrr\" ändras från nummer till birr\n",
    "        print(\"Birr\")\n",
    "        birr += 1\n",
    "    else:#fortsätter koden om 'if' och 'elif' inte \n",
    "        print(i) \n",
    "\n",
    "print(f\"Antal burrbirr: {burrbirr}\")\n",
    "print(f\"Antal burr: {burr}\")\n",
    "print(f\"Antal birr: {birr}\")\n"
   ]
  },
  {
   "cell_type": "code",
   "execution_count": 114,
   "metadata": {},
   "outputs": [
    {
     "output_type": "stream",
     "name": "stdout",
     "text": [
      "talet kan ej vara negativt\ntalet kan ej vara negativt\ntalet kan ej vara negativt\ntalet kan ej vara negativt\nBurrBirr\ntalet kan ej vara negativt\ntalet kan ej vara negativt\ntalet kan ej vara negativt\ntalet kan ej vara negativt\ntalet kan ej vara negativt\ntalet kan ej vara negativt\ntalet kan ej vara negativt\nBurrBirr\ntalet kan ej vara negativt\ntalet kan ej vara negativt\ntalet kan ej vara negativt\ntalet kan ej vara negativt\ntalet kan ej vara negativt\ntalet kan ej vara negativt\ntalet kan ej vara negativt\nBurrBirr\ntalet kan ej vara negativt\ntalet kan ej vara negativt\ntalet kan ej vara negativt\ntalet kan ej vara negativt\ntalet kan ej vara negativt\ntalet kan ej vara negativt\ntalet kan ej vara negativt\nBurrBirr\ntalet kan ej vara negativt\ntalet kan ej vara negativt\ntalet kan ej vara negativt\ntalet kan ej vara negativt\ntalet kan ej vara negativt\ntalet kan ej vara negativt\ntalet kan ej vara negativt\nBurrBirr\ntalet kan ej vara negativt\ntalet kan ej vara negativt\ntalet kan ej vara negativt\ntalet kan ej vara negativt\ntalet kan ej vara negativt\ntalet kan ej vara negativt\ntalet kan ej vara negativt\nBurrBirr\ntalet kan ej vara negativt\ntalet kan ej vara negativt\ntalet kan ej vara negativt\ntalet kan ej vara negativt\ntalet kan ej vara negativt\ntalet kan ej vara negativt\ntalet kan ej vara negativt\nBurrBirr\ntalet kan ej vara negativt\ntalet kan ej vara negativt\ntalet kan ej vara negativt\ntalet kan ej vara negativt\ntalet kan ej vara negativt\ntalet kan ej vara negativt\ntalet kan ej vara negativt\nBurrBirr\ntalet kan ej vara negativt\ntalet kan ej vara negativt\ntalet kan ej vara negativt\ntalet kan ej vara negativt\ntalet kan ej vara negativt\ntalet kan ej vara negativt\ntalet kan ej vara negativt\nBurrBirr\ntalet kan ej vara negativt\ntalet kan ej vara negativt\ntalet kan ej vara negativt\ntalet kan ej vara negativt\ntalet kan ej vara negativt\ntalet kan ej vara negativt\ntalet kan ej vara negativt\nBurrBirr\ntalet kan ej vara negativt\ntalet kan ej vara negativt\ntalet kan ej vara negativt\nAntal burrbirr: 10\nAntal burr: 0\nAntal birr: 0\n"
     ]
    }
   ],
   "source": [
    "#UPPGIFT2f\n",
    "#ett utväclingsförslag kan vara felhantering om användaren skriver in ett negativt tal till exempel\n",
    "#så här skulle uppgiften se ut då\n",
    "start = int(input(\"Ange start nummer\")) \n",
    "slut = int(input(\"Ange slut nummer\"))\n",
    "tal = int(input(\"Ange ditt Burr nummer\"))\n",
    "ta = int(input(\"Ange ditt birr nummer\"))\n",
    "\n",
    "burr = 0\n",
    "birr = 0\n",
    "burrbirr = 0\n",
    "i = 0\n",
    "for i in range(start, slut):#for loopen med start och slut variablerna\n",
    "    if i%ta==0 and i%tal==0:\n",
    "        print(\"BurrBirr\")#burrbirrprint ifall burr och birr är på samma\n",
    "        burrbirr += 1#räknar antal burrbirr\n",
    "    elif ta or tal < 0:\n",
    "        print(\"talet kan ej vara negativt\")\n",
    "        exit\n",
    "    elif i%tal==0:#gör så den angivna \"BUrr\" ändras från nummer till burr\n",
    "        print(\"Burr\")\n",
    "        burr += 1\n",
    "    elif i%ta==0:#gör så den angivna \"BUrr\" ändras från nummer till birr\n",
    "        print(\"Birr\")\n",
    "        birr += 1\n",
    "    else:#fortsätter koden om 'if' och 'elif' inte \n",
    "        print(i) \n",
    "\n",
    "print(f\"Antal burrbirr: {burrbirr}\")\n",
    "print(f\"Antal burr: {burr}\")\n",
    "print(f\"Antal birr: {birr}\")"
   ]
  },
  {
   "cell_type": "code",
   "execution_count": null,
   "metadata": {},
   "outputs": [],
   "source": []
  }
 ]
}