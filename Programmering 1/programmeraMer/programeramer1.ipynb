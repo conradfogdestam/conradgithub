{
 "metadata": {
  "language_info": {
   "codemirror_mode": {
    "name": "ipython",
    "version": 3
   },
   "file_extension": ".py",
   "mimetype": "text/x-python",
   "name": "python",
   "nbconvert_exporter": "python",
   "pygments_lexer": "ipython3",
   "version": "3.8.3-final"
  },
  "orig_nbformat": 2,
  "kernelspec": {
   "name": "python3",
   "display_name": "Python 3"
  }
 },
 "nbformat": 4,
 "nbformat_minor": 2,
 "cells": [
  {
   "source": [
    "Strängar python \n",
    "#indexeringoperator\n",
    "#skivoperator\n",
    "#konkatenering\n",
    "#escape-sekvens"
   ],
   "cell_type": "markdown",
   "metadata": {}
  },
  {
   "cell_type": "code",
   "execution_count": 12,
   "metadata": {},
   "outputs": [
    {
     "output_type": "stream",
     "name": "stdout",
     "text": [
      "namn: \tConrad Fogdestam\nålder: \t17\n"
     ]
    }
   ],
   "source": [
    "förnamn = \"Conrad\"\n",
    "efternamn = \"Fogdestam\"\n",
    "ålder = \"17\"\n",
    "telefon = 733567833\n",
    "\n",
    "namn = förnamn + \" \" + efternamn\n",
    "person = \"namn: \\t\" + namn + \"\\n\" + \"ålder: \\t\" + ålder\n",
    "\n",
    "print(person)"
   ]
  },
  {
   "cell_type": "code",
   "execution_count": 74,
   "metadata": {},
   "outputs": [
    {
     "output_type": "stream",
     "name": "stdout",
     "text": [
      "Antal bokstäver i ditt namn är :7\n"
     ]
    }
   ],
   "source": [
    "#UPPGIFT 1 (STRINGS)\n",
    "\n",
    "namn = (input(\"Ange namn: \"))\n",
    "\n",
    "print(f\"Antal bokstäver i ditt namn är: {len(namn)}\")"
   ]
  },
  {
   "cell_type": "code",
   "execution_count": 75,
   "metadata": {},
   "outputs": [
    {
     "output_type": "stream",
     "name": "stdout",
     "text": [
      "Meningen: En bild säger mer är tusen ord, en matematisk formel säger mer än tusen bilder\nhar 15 ord\n"
     ]
    }
   ],
   "source": [
    "#UPPGIFT 2 (STRINGS)\n",
    "\n",
    "m = \"En bild säger mer är tusen ord, en matematisk formel säger mer än tusen bilder\"\n",
    "  \n",
    "\n",
    "print (\"Meningen: \" + m) \n",
    "\n",
    "res = len(m.split()) \n",
    "  \n",
    "print (f\"har {str(res)} ord\") "
   ]
  },
  {
   "cell_type": "code",
   "execution_count": 40,
   "metadata": {},
   "outputs": [
    {
     "output_type": "stream",
     "name": "stdout",
     "text": [
      "Ditt ord baklänges är: nital arb ralat in\nDitt ord är inte en palindrom\n"
     ]
    }
   ],
   "source": [
    "#UPPGIFT 3A (STRINGS)\n",
    "\n",
    "#A \n",
    "\n",
    "n = input(\"Ange täcken utan mellanslag eller skiljetäcken: \")\n",
    "\n",
    "print(f\"Ditt ord baklänges är: {n[::-1]}\")  \n",
    "\n",
    "if n == n[::-1]:\n",
    "    print(\"Ditt or är en palindrom\")\n",
    "else:\n",
    "    print(\"Ditt ord är inte en palindrom\")\n",
    "\n"
   ]
  },
  {
   "cell_type": "code",
   "execution_count": 32,
   "metadata": {},
   "outputs": [
    {
     "output_type": "stream",
     "name": "stdout",
     "text": [
      "Ditt ord / mening baklänges är: nitalarbralatin\nDitt ord/mening är en palindrom\n"
     ]
    }
   ],
   "source": [
    "#UPPGIFT 3B (STRINGS)\n",
    "\n",
    "#B\n",
    "\n",
    "def remove(n):\n",
    "    return n.replace(\" \", \"\")\n",
    "\n",
    "n = input(\"Ange täcken utan mellanslag eller skiljetäcken: \")\n",
    "\n",
    "o = remove(n)\n",
    "\n",
    "print(f\"Ditt ord / mening baklänges är: {o[::-1]}\") \n",
    "\n",
    "if o == o[::-1]:\n",
    "    print(\"Ditt ord/mening är en palindrom\")\n",
    "else:\n",
    "    print(\"Ditt ord/mening är inte en palindrom\")\n",
    "\n"
   ]
  },
  {
   "cell_type": "code",
   "execution_count": 87,
   "metadata": {},
   "outputs": [],
   "source": [
    "\n"
   ]
  },
  {
   "cell_type": "code",
   "execution_count": null,
   "metadata": {},
   "outputs": [],
   "source": [
    "#TEST"
   ]
  }
 ]
}