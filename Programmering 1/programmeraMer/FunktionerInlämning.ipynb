{
 "metadata": {
  "language_info": {
   "codemirror_mode": {
    "name": "ipython",
    "version": 3
   },
   "file_extension": ".py",
   "mimetype": "text/x-python",
   "name": "python",
   "nbconvert_exporter": "python",
   "pygments_lexer": "ipython3",
   "version": "3.8.3-final"
  },
  "orig_nbformat": 2,
  "kernelspec": {
   "name": "python3",
   "display_name": "Python 3"
  }
 },
 "nbformat": 4,
 "nbformat_minor": 2,
 "cells": [
  {
   "cell_type": "code",
   "execution_count": 14,
   "metadata": {},
   "outputs": [
    {
     "output_type": "execute_result",
     "data": {
      "text/plain": [
       "37.5"
      ]
     },
     "metadata": {},
     "execution_count": 14
    }
   ],
   "source": [
    "#uppgift 1a\n",
    "def aritmetisk_summa (n,a1,an):\n",
    "    nibe = n*(a1+an)/2\n",
    "    return nibe\n",
    "\n",
    "aritmetisk_summa(5,5,10)\n",
    "\n",
    "\n"
   ]
  },
  {
   "cell_type": "code",
   "execution_count": 15,
   "metadata": {},
   "outputs": [
    {
     "output_type": "execute_result",
     "data": {
      "text/plain": [
       "5050.0"
      ]
     },
     "metadata": {},
     "execution_count": 15
    }
   ],
   "source": [
    "#uppgift 1b\n",
    "def aritmetisk_summa (n,a1,an):\n",
    "    nibe = n*(a1+an)/2\n",
    "    return nibe\n",
    "\n",
    "aritmetisk_summa(100,1,100)\n",
    "\n"
   ]
  },
  {
   "cell_type": "code",
   "execution_count": 19,
   "metadata": {},
   "outputs": [
    {
     "output_type": "stream",
     "name": "stdout",
     "text": [
      "Den aritmetiska summan av n = 100,  a1 = 1 och an = 100 är 5050.0\n"
     ]
    }
   ],
   "source": [
    "#uppgift 1c\n",
    "\n",
    "\n",
    "n = int(input(\"ange n:\"))\n",
    "a1 = int(input(\"ange a1:\"))\n",
    "an = int(input(\"ange an:\"))\n",
    "\n",
    "def aritmetisk_summa (n,a1,an):\n",
    "    nibe = n*(a1+an)/2\n",
    "    return nibe\n",
    "\n",
    "print(f\"Den aritmetiska summan av n = {n},  a1 = {a1} och an = {an} är {aritmetisk_summa(n,a1,an)}\")\n",
    "\n"
   ]
  },
  {
   "cell_type": "code",
   "execution_count": 124,
   "metadata": {},
   "outputs": [
    {
     "output_type": "stream",
     "name": "stdout",
     "text": [
      "36\n"
     ]
    }
   ],
   "source": [
    "#uppgift 2a\n",
    "\n",
    "n = int(input(\"ange n : \"))\n",
    "\n",
    "def summan(n):\n",
    "\n",
    "    s = 0\n",
    "\n",
    "    for n in range(0, n+1):\n",
    "        s += (2*n + 1)\n",
    "\n",
    "    print(s)\n",
    "\n",
    "summan(n)\n"
   ]
  },
  {
   "cell_type": "code",
   "execution_count": 129,
   "metadata": {},
   "outputs": [
    {
     "output_type": "stream",
     "name": "stdout",
     "text": [
      "36\nDen aritmetiska summan av n = 5 med starten 0  är None\n"
     ]
    }
   ],
   "source": [
    "#uppgift 2b\n",
    "\n",
    "start = int(input(\"Ange startvärde : \"))\n",
    "n = int(input(\"ange n : \"))\n",
    "\n",
    "def summan(n):\n",
    "\n",
    "    s = 0\n",
    "\n",
    "    for arnn in range(start, n+1):\n",
    "        s += (2*n + 1)\n",
    "\n",
    "    print(s)\n",
    "\n",
    "summa(n)\n",
    "print(f\"Den aritmetiska summan av n = {n} med starten {start}  är {(s)}\")"
   ]
  },
  {
   "cell_type": "code",
   "execution_count": null,
   "metadata": {},
   "outputs": [],
   "source": []
  }
 ]
}