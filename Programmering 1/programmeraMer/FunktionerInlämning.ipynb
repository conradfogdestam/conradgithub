{
 "metadata": {
  "language_info": {
   "codemirror_mode": {
    "name": "ipython",
    "version": 3
   },
   "file_extension": ".py",
   "mimetype": "text/x-python",
   "name": "python",
   "nbconvert_exporter": "python",
   "pygments_lexer": "ipython3",
   "version": "3.8.3-final"
  },
  "orig_nbformat": 2,
  "kernelspec": {
   "name": "python3",
   "display_name": "Python 3"
  }
 },
 "nbformat": 4,
 "nbformat_minor": 2,
 "cells": [
  {
   "cell_type": "code",
   "execution_count": null,
   "metadata": {},
   "outputs": [],
   "source": [
    "#uppgift 1a\n",
    "def aritmetisk_summa (n,a1,an):\n",
    "    nibe = n*(a1+an)/2\n",
    "    return nibe\n",
    "\n",
    "aritmetisk_summa(5,5,10)\n",
    "\n",
    "\n"
   ]
  },
  {
   "cell_type": "code",
   "execution_count": null,
   "metadata": {},
   "outputs": [],
   "source": [
    "#uppgift 1b\n",
    "def aritmetisk_summa (n,a1,an):\n",
    "    nibe = n*(a1+an)/2\n",
    "    return nibe\n",
    "\n",
    "aritmetisk_summa(100,1,100)\n",
    "\n"
   ]
  },
  {
   "cell_type": "code",
   "execution_count": null,
   "metadata": {},
   "outputs": [],
   "source": [
    "#uppgift 1c\n",
    "\n",
    "\n",
    "n = int(input(\"ange n:\"))\n",
    "a1 = int(input(\"ange a1:\"))\n",
    "an = int(input(\"ange an:\"))\n",
    "\n",
    "def aritmetisk_summa (n,a1,an):\n",
    "    nibe = n*(a1+an)/2\n",
    "    return nibe\n",
    "\n",
    "print(f\"Den aritmetiska summan av n = {n},  a1 = {a1} och an = {an} är {aritmetisk_summa(n,a1,an)}\")\n",
    "\n"
   ]
  },
  {
   "cell_type": "code",
   "execution_count": null,
   "metadata": {},
   "outputs": [],
   "source": [
    "#uppgift 2a\n",
    "\n",
    "n = int(input(\"ange n : \"))\n",
    "\n",
    "def summan(n):\n",
    "\n",
    "    s = 0\n",
    "\n",
    "    for n in range(0, n+1):\n",
    "        s += (2*n + 1)\n",
    "\n",
    "    print(s)\n",
    "\n",
    "summan(n)\n"
   ]
  },
  {
   "cell_type": "code",
   "execution_count": null,
   "metadata": {},
   "outputs": [],
   "source": [
    "#uppgift 2b\n",
    "\n",
    "start = int(input(\"Ange startvärde : \"))\n",
    "n = int(input(\"ange n : \"))\n",
    "\n",
    "print(f\"Den artimetiska summan blir med starten {start} och n värdet {n} : \")\n",
    "\n",
    "def summan(n):\n",
    "\n",
    "    s = 0\n",
    "\n",
    "    for n in range(start, n+1):\n",
    "        s += (2*n + 1)\n",
    "\n",
    "    print(s)\n",
    "\n",
    "summan(n)\n"
   ]
  },
  {
   "cell_type": "code",
   "execution_count": 39,
   "metadata": {},
   "outputs": [
    {
     "output_type": "stream",
     "name": "stdout",
     "text": [
      "5.385164807134504\n"
     ]
    }
   ],
   "source": [
    "#uppgift 3a\n",
    "\n",
    "import math\n",
    "\n",
    "ko = 2\n",
    "kt = 5\n",
    "\n",
    "hypotenusaarea = (ko**2 + kt**2)\n",
    "\n",
    "hypotenusa = math.sqrt(hypotenusaarea)\n",
    "\n",
    "print(hypotenusa)\n"
   ]
  },
  {
   "cell_type": "code",
   "execution_count": null,
   "metadata": {},
   "outputs": [],
   "source": [
    "#uppgift 3b"
   ]
  }
 ]
}